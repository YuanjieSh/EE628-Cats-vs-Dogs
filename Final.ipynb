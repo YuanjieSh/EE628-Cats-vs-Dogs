{
 "cells": [
  {
   "cell_type": "code",
   "execution_count": 47,
   "metadata": {
    "scrolled": false
   },
   "outputs": [
    {
     "data": {
      "text/plain": [
       "[]"
      ]
     },
     "execution_count": 47,
     "metadata": {},
     "output_type": "execute_result"
    }
   ],
   "source": [
    "%matplotlib inline\n",
    "import glob\n",
    "import os, sys\n",
    "import random\n",
    "from tqdm import tqdm\n",
    "\n",
    "import numpy as np\n",
    "from keras.preprocessing.image import ImageDataGenerator, load_img, img_to_array\n",
    "from keras.models import Sequential\n",
    "from keras.layers import Dropout, Flatten, Dense\n",
    "from keras import applications\n",
    "\n",
    "import pandas as pd\n",
    "\n",
    "import matplotlib.pyplot as plt\n",
    "\n",
    "from keras import backend as K\n",
    "K.tensorflow_backend._get_available_gpus()"
   ]
  },
  {
   "cell_type": "code",
   "execution_count": 62,
   "metadata": {},
   "outputs": [],
   "source": [
    "train_data_dir = '/Users/student/project/train'#replace by your path\n",
    "test_data_dir = '/Users/student/project/test1'#replace by your path\n",
    "\n",
    "epochs = 20\n",
    "batch_size = 20\n",
    "img_width, img_height = 150, 150\n",
    "\n",
    "training_n_bound = 5000  # set to None to use the entire training dataset"
   ]
  },
  {
   "cell_type": "code",
   "execution_count": 63,
   "metadata": {},
   "outputs": [],
   "source": [
    "def gen_image_label(directory):\n",
    "    ''' A generator that yields (label, id, jpg_filename) tuple.'''\n",
    "    for root, dirs, files in os.walk(directory):\n",
    "        for f in files:\n",
    "            _, ext = os.path.splitext(f)\n",
    "            if ext != '.jpg':\n",
    "                continue\n",
    "            basename = os.path.basename(f)\n",
    "            splits = basename.split('.')\n",
    "            if len(splits) == 3:\n",
    "                label, id_, ext = splits\n",
    "            else:\n",
    "                label = None\n",
    "                id_, ext = splits\n",
    "            fullname = os.path.join(root, f)\n",
    "            yield label, int(id_), fullname"
   ]
  },
  {
   "cell_type": "code",
   "execution_count": 64,
   "metadata": {},
   "outputs": [
    {
     "data": {
      "text/html": [
       "<div>\n",
       "<style scoped>\n",
       "    .dataframe tbody tr th:only-of-type {\n",
       "        vertical-align: middle;\n",
       "    }\n",
       "\n",
       "    .dataframe tbody tr th {\n",
       "        vertical-align: top;\n",
       "    }\n",
       "\n",
       "    .dataframe thead th {\n",
       "        text-align: right;\n",
       "    }\n",
       "</style>\n",
       "<table border=\"1\" class=\"dataframe\">\n",
       "  <thead>\n",
       "    <tr style=\"text-align: right;\">\n",
       "      <th></th>\n",
       "      <th>label</th>\n",
       "      <th>id</th>\n",
       "      <th>filename</th>\n",
       "      <th>label_code</th>\n",
       "    </tr>\n",
       "  </thead>\n",
       "  <tbody>\n",
       "    <tr>\n",
       "      <th>4127</th>\n",
       "      <td>cat</td>\n",
       "      <td>7</td>\n",
       "      <td>/Users/student/project/train/cat.7.jpg</td>\n",
       "      <td>0</td>\n",
       "    </tr>\n",
       "    <tr>\n",
       "      <th>3859</th>\n",
       "      <td>cat</td>\n",
       "      <td>14</td>\n",
       "      <td>/Users/student/project/train/cat.14.jpg</td>\n",
       "      <td>0</td>\n",
       "    </tr>\n",
       "    <tr>\n",
       "      <th>4026</th>\n",
       "      <td>cat</td>\n",
       "      <td>15</td>\n",
       "      <td>/Users/student/project/train/cat.15.jpg</td>\n",
       "      <td>0</td>\n",
       "    </tr>\n",
       "  </tbody>\n",
       "</table>\n",
       "</div>"
      ],
      "text/plain": [
       "     label  id                                 filename  label_code\n",
       "4127   cat   7   /Users/student/project/train/cat.7.jpg           0\n",
       "3859   cat  14  /Users/student/project/train/cat.14.jpg           0\n",
       "4026   cat  15  /Users/student/project/train/cat.15.jpg           0"
      ]
     },
     "execution_count": 64,
     "metadata": {},
     "output_type": "execute_result"
    }
   ],
   "source": [
    "lst = list(gen_image_label(train_data_dir))\n",
    "random.shuffle(lst)\n",
    "if training_n_bound is not None:\n",
    "    lst = lst[:training_n_bound]\n",
    "train_df = pd.DataFrame(lst, columns=['label', 'id', 'filename'])\n",
    "train_df = train_df.sort_values(by=['label', 'id'])\n",
    "train_df['label_code'] = train_df.label.map({'cat':0, 'dog':1})\n",
    "\n",
    "train_df.head(3)"
   ]
  },
  {
   "cell_type": "code",
   "execution_count": 67,
   "metadata": {},
   "outputs": [
    {
     "data": {
      "text/html": [
       "<div>\n",
       "<style scoped>\n",
       "    .dataframe tbody tr th:only-of-type {\n",
       "        vertical-align: middle;\n",
       "    }\n",
       "\n",
       "    .dataframe tbody tr th {\n",
       "        vertical-align: top;\n",
       "    }\n",
       "\n",
       "    .dataframe thead th {\n",
       "        text-align: right;\n",
       "    }\n",
       "</style>\n",
       "<table border=\"1\" class=\"dataframe\">\n",
       "  <thead>\n",
       "    <tr style=\"text-align: right;\">\n",
       "      <th></th>\n",
       "      <th>label</th>\n",
       "      <th>id</th>\n",
       "      <th>filename</th>\n",
       "      <th>label_code</th>\n",
       "    </tr>\n",
       "  </thead>\n",
       "  <tbody>\n",
       "    <tr>\n",
       "      <th>0</th>\n",
       "      <td>None</td>\n",
       "      <td>1</td>\n",
       "      <td>/Users/student/project/test1/1.jpg</td>\n",
       "      <td>NaN</td>\n",
       "    </tr>\n",
       "    <tr>\n",
       "      <th>3612</th>\n",
       "      <td>None</td>\n",
       "      <td>2</td>\n",
       "      <td>/Users/student/project/test1/2.jpg</td>\n",
       "      <td>NaN</td>\n",
       "    </tr>\n",
       "    <tr>\n",
       "      <th>4723</th>\n",
       "      <td>None</td>\n",
       "      <td>3</td>\n",
       "      <td>/Users/student/project/test1/3.jpg</td>\n",
       "      <td>NaN</td>\n",
       "    </tr>\n",
       "  </tbody>\n",
       "</table>\n",
       "</div>"
      ],
      "text/plain": [
       "     label  id                            filename  label_code\n",
       "0     None   1  /Users/student/project/test1/1.jpg         NaN\n",
       "3612  None   2  /Users/student/project/test1/2.jpg         NaN\n",
       "4723  None   3  /Users/student/project/test1/3.jpg         NaN"
      ]
     },
     "execution_count": 67,
     "metadata": {},
     "output_type": "execute_result"
    }
   ],
   "source": [
    "lst = list(gen_image_label(test_data_dir))\n",
    "test_df = pd.DataFrame(lst, columns=['label', 'id', 'filename'])\n",
    "test_df = test_df.sort_values(by=['label', 'id'])\n",
    "test_df['label_code'] = test_df.label.map({'cat':0, 'dog':1})\n",
    "\n",
    "test_df.head(3)"
   ]
  },
  {
   "cell_type": "code",
   "execution_count": 68,
   "metadata": {},
   "outputs": [],
   "source": [
    "def gen_label_image_batch(df, batch_size, n_max_batch=10):\n",
    "    ''' A generator that yields image as np array, batch by batch.'''\n",
    "    stacked = None\n",
    "    img_arrays = []\n",
    "    label_arrays = []\n",
    "    n_batch = 0\n",
    "    for index, row in df.iterrows():\n",
    "        img_arrays.append(\n",
    "            img_to_array(\n",
    "                load_img(row['filename'], target_size=(img_width, img_height))))\n",
    "        label_arrays.append(row['label_code'])\n",
    "        if len(img_arrays) % batch_size == 0:\n",
    "            yield np.array(label_arrays), np.stack(img_arrays)\n",
    "            n_batch += 1\n",
    "            img_arrays = []\n",
    "            label_arrays = []\n",
    "            if n_max_batch is not None and n_batch == n_max_batch:\n",
    "                break\n",
    "    if img_arrays and label_arrays:\n",
    "        yield np.array(label_arrays), np.stack(img_arrays)"
   ]
  },
  {
   "cell_type": "code",
   "execution_count": 69,
   "metadata": {},
   "outputs": [],
   "source": [
    "datagen = ImageDataGenerator(rescale=1./255)\n",
    "def gen_embedding_batch(df, batch_size, n_max_batch=None):\n",
    "    ''' A generator that yields the embeddings, batch by batch \n",
    "        The embedding comes from pretrained VGG16 model.\n",
    "    '''\n",
    "    batches = gen_label_image_batch(df, \n",
    "                                    batch_size=batch_size, \n",
    "                                    n_max_batch=n_max_batch)\n",
    "    model = applications.VGG16(include_top=False, \n",
    "                               weights='imagenet')\n",
    "    for i, (label, imgs) in tqdm(enumerate(batches)):\n",
    "        generator = datagen.flow(\n",
    "            imgs,\n",
    "            label,\n",
    "            batch_size=batch_size,\n",
    "            shuffle=False)\n",
    "        embedding_batch = model.predict_generator(\n",
    "            generator, workers=4, verbose=0)\n",
    "        yield embedding_batch"
   ]
  },
  {
   "cell_type": "code",
   "execution_count": 70,
   "metadata": {},
   "outputs": [],
   "source": [
    "def gen_or_load_embedding(df, saved_embedding, force_gen=False):\n",
    "    if os.path.exists(saved_embedding) and not force_gen:\n",
    "        print('Loading embedding from %s...' % (saved_embedding,))\n",
    "        embedding = np.load(open(saved_embedding, 'rb'))\n",
    "    else:\n",
    "        embedding = np.stack(\n",
    "            gen_embedding_batch(df, \n",
    "                                batch_size=batch_size), \n",
    "            axis=0)\n",
    "        embedding = embedding.reshape(\n",
    "            [embedding.shape[0] * embedding.shape[1]] + list(embedding.shape[2:]))\n",
    "        np.save(open(saved_embedding, 'wb'), embedding)\n",
    "    return embedding"
   ]
  },
  {
   "cell_type": "code",
   "execution_count": 71,
   "metadata": {},
   "outputs": [
    {
     "name": "stderr",
     "output_type": "stream",
     "text": [
      "250it [07:55,  1.90s/it]\n",
      "625it [19:38,  1.89s/it]\n"
     ]
    }
   ],
   "source": [
    "train_embeddings = gen_or_load_embedding(train_df, 'train_embeddings.npy', force_gen=True)#please wait, it contains 250it\n",
    "test_embeddings = gen_or_load_embedding(test_df, 'test_embeddings.npy', force_gen=False)#please wait, it contains 625it"
   ]
  },
  {
   "cell_type": "code",
   "execution_count": 72,
   "metadata": {},
   "outputs": [
    {
     "data": {
      "text/plain": [
       "[(5000, 4, 4, 512), (12500, 4, 4, 512)]"
      ]
     },
     "execution_count": 72,
     "metadata": {},
     "output_type": "execute_result"
    }
   ],
   "source": [
    "[train_embeddings.shape, test_embeddings.shape]# Check embeddings' dimensions"
   ]
  },
  {
   "cell_type": "code",
   "execution_count": 73,
   "metadata": {},
   "outputs": [],
   "source": [
    "train_indices = np.nonzero((train_df.id[:train_embeddings.shape[0]] % 4 != 0).values)[0]\n",
    "validate_indices = np.nonzero((train_df.id[:train_embeddings.shape[0]] % 4 == 0).values)[0]\n",
    "train_labels = train_df.label_code.values[train_indices]\n",
    "validation_labels = train_df.label_code.values[validate_indices]"
   ]
  },
  {
   "cell_type": "code",
   "execution_count": 74,
   "metadata": {},
   "outputs": [],
   "source": [
    "embedding_fc_model = 'embedding_fc_model.h5'"
   ]
  },
  {
   "cell_type": "code",
   "execution_count": 75,
   "metadata": {},
   "outputs": [],
   "source": [
    "model = Sequential()\n",
    "model.add(Flatten(input_shape=train_embeddings.shape[1:]))\n",
    "model.add(Dense(256, activation='relu'))\n",
    "model.add(Dropout(0.5))\n",
    "model.add(Dense(1, activation='sigmoid'))\n",
    "model.compile(optimizer='rmsprop',\n",
    "              loss='binary_crossentropy',\n",
    "              metrics=['accuracy'])"
   ]
  },
  {
   "cell_type": "code",
   "execution_count": 76,
   "metadata": {},
   "outputs": [
    {
     "name": "stdout",
     "output_type": "stream",
     "text": [
      "Train on 3796 samples, validate on 1204 samples\n",
      "Epoch 1/20\n",
      "3796/3796 [==============================] - 4s 990us/step - loss: 0.5494 - acc: 0.7906 - val_loss: 0.3872 - val_acc: 0.8297\n",
      "Epoch 2/20\n",
      "3796/3796 [==============================] - 4s 926us/step - loss: 0.3193 - acc: 0.8656 - val_loss: 0.2656 - val_acc: 0.8912\n",
      "Epoch 3/20\n",
      "3796/3796 [==============================] - 3s 922us/step - loss: 0.2887 - acc: 0.8865 - val_loss: 0.3768 - val_acc: 0.8588\n",
      "Epoch 4/20\n",
      "3796/3796 [==============================] - 4s 937us/step - loss: 0.2340 - acc: 0.9065 - val_loss: 0.2555 - val_acc: 0.8937\n",
      "Epoch 5/20\n",
      "3796/3796 [==============================] - 4s 932us/step - loss: 0.2179 - acc: 0.9125 - val_loss: 0.2745 - val_acc: 0.8978\n",
      "Epoch 6/20\n",
      "3796/3796 [==============================] - 4s 931us/step - loss: 0.1874 - acc: 0.9276 - val_loss: 0.3709 - val_acc: 0.8729\n",
      "Epoch 7/20\n",
      "3796/3796 [==============================] - 4s 924us/step - loss: 0.1846 - acc: 0.9244 - val_loss: 0.2638 - val_acc: 0.8995\n",
      "Epoch 8/20\n",
      "3796/3796 [==============================] - 4s 941us/step - loss: 0.1655 - acc: 0.9344 - val_loss: 0.3775 - val_acc: 0.8804\n",
      "Epoch 9/20\n",
      "3796/3796 [==============================] - 4s 959us/step - loss: 0.1545 - acc: 0.9415 - val_loss: 0.4366 - val_acc: 0.8563\n",
      "Epoch 10/20\n",
      "3796/3796 [==============================] - 3s 907us/step - loss: 0.1302 - acc: 0.9502 - val_loss: 0.4322 - val_acc: 0.8920\n",
      "Epoch 11/20\n",
      "3796/3796 [==============================] - 3s 908us/step - loss: 0.1329 - acc: 0.9507 - val_loss: 0.3449 - val_acc: 0.8862\n",
      "Epoch 12/20\n",
      "3796/3796 [==============================] - 4s 951us/step - loss: 0.1089 - acc: 0.9589 - val_loss: 0.4044 - val_acc: 0.8879\n",
      "Epoch 13/20\n",
      "3796/3796 [==============================] - 4s 948us/step - loss: 0.1104 - acc: 0.9568 - val_loss: 0.4763 - val_acc: 0.8920\n",
      "Epoch 14/20\n",
      "3796/3796 [==============================] - 4s 941us/step - loss: 0.0983 - acc: 0.9629 - val_loss: 0.4245 - val_acc: 0.8912\n",
      "Epoch 15/20\n",
      "3796/3796 [==============================] - 4s 937us/step - loss: 0.0795 - acc: 0.9694 - val_loss: 0.4781 - val_acc: 0.8945\n",
      "Epoch 16/20\n",
      "3796/3796 [==============================] - 4s 950us/step - loss: 0.0842 - acc: 0.9715 - val_loss: 0.4472 - val_acc: 0.8904\n",
      "Epoch 17/20\n",
      "3796/3796 [==============================] - 4s 927us/step - loss: 0.0809 - acc: 0.9689 - val_loss: 0.4850 - val_acc: 0.8953\n",
      "Epoch 18/20\n",
      "3796/3796 [==============================] - 4s 948us/step - loss: 0.0727 - acc: 0.9737 - val_loss: 0.4960 - val_acc: 0.8904\n",
      "Epoch 19/20\n",
      "3796/3796 [==============================] - 4s 933us/step - loss: 0.0561 - acc: 0.9805 - val_loss: 0.4893 - val_acc: 0.8920\n",
      "Epoch 20/20\n",
      "3796/3796 [==============================] - 4s 928us/step - loss: 0.0666 - acc: 0.9779 - val_loss: 0.5269 - val_acc: 0.8870\n"
     ]
    }
   ],
   "source": [
    "model.fit(train_embeddings[train_indices,:],\n",
    "          train_labels,\n",
    "          epochs=epochs,\n",
    "          batch_size=batch_size,\n",
    "          validation_data=(train_embeddings[validate_indices,:],\n",
    "                           validation_labels))\n",
    "model.save_weights(embedding_fc_model)"
   ]
  },
  {
   "cell_type": "code",
   "execution_count": 77,
   "metadata": {},
   "outputs": [
    {
     "data": {
      "text/plain": [
       "(0.8897893030794165, 0.8870431893687708)"
      ]
     },
     "execution_count": 77,
     "metadata": {},
     "output_type": "execute_result"
    }
   ],
   "source": [
    "from sklearn.metrics import f1_score, accuracy_score\n",
    "\n",
    "pred_validation = model.predict(train_embeddings[validate_indices,:])\n",
    "\n",
    "f1 = f1_score(validation_labels, pred_validation > 0.5)\n",
    "acc = accuracy_score(validation_labels, pred_validation > 0.5)\n",
    "(f1, acc)"
   ]
  },
  {
   "cell_type": "code",
   "execution_count": 78,
   "metadata": {},
   "outputs": [
    {
     "data": {
      "text/plain": [
       "(12500, 1)"
      ]
     },
     "execution_count": 78,
     "metadata": {},
     "output_type": "execute_result"
    }
   ],
   "source": [
    "pred_test = model.predict(test_embeddings)\n",
    "pred_test[pred_test > 0.5] = 1\n",
    "pred_test[pred_test < 0.5] = 0\n",
    "pred_test.shape"
   ]
  },
  {
   "cell_type": "code",
   "execution_count": 79,
   "metadata": {},
   "outputs": [
    {
     "data": {
      "text/html": [
       "<div>\n",
       "<style scoped>\n",
       "    .dataframe tbody tr th:only-of-type {\n",
       "        vertical-align: middle;\n",
       "    }\n",
       "\n",
       "    .dataframe tbody tr th {\n",
       "        vertical-align: top;\n",
       "    }\n",
       "\n",
       "    .dataframe thead th {\n",
       "        text-align: right;\n",
       "    }\n",
       "</style>\n",
       "<table border=\"1\" class=\"dataframe\">\n",
       "  <thead>\n",
       "    <tr style=\"text-align: right;\">\n",
       "      <th></th>\n",
       "      <th>id</th>\n",
       "      <th>label</th>\n",
       "    </tr>\n",
       "  </thead>\n",
       "  <tbody>\n",
       "    <tr>\n",
       "      <th>0</th>\n",
       "      <td>1</td>\n",
       "      <td>1.0</td>\n",
       "    </tr>\n",
       "    <tr>\n",
       "      <th>1</th>\n",
       "      <td>2</td>\n",
       "      <td>1.0</td>\n",
       "    </tr>\n",
       "    <tr>\n",
       "      <th>2</th>\n",
       "      <td>3</td>\n",
       "      <td>1.0</td>\n",
       "    </tr>\n",
       "    <tr>\n",
       "      <th>3</th>\n",
       "      <td>4</td>\n",
       "      <td>1.0</td>\n",
       "    </tr>\n",
       "    <tr>\n",
       "      <th>4</th>\n",
       "      <td>5</td>\n",
       "      <td>0.0</td>\n",
       "    </tr>\n",
       "    <tr>\n",
       "      <th>5</th>\n",
       "      <td>6</td>\n",
       "      <td>0.0</td>\n",
       "    </tr>\n",
       "    <tr>\n",
       "      <th>6</th>\n",
       "      <td>7</td>\n",
       "      <td>0.0</td>\n",
       "    </tr>\n",
       "    <tr>\n",
       "      <th>7</th>\n",
       "      <td>8</td>\n",
       "      <td>0.0</td>\n",
       "    </tr>\n",
       "    <tr>\n",
       "      <th>8</th>\n",
       "      <td>9</td>\n",
       "      <td>0.0</td>\n",
       "    </tr>\n",
       "    <tr>\n",
       "      <th>9</th>\n",
       "      <td>10</td>\n",
       "      <td>0.0</td>\n",
       "    </tr>\n",
       "  </tbody>\n",
       "</table>\n",
       "</div>"
      ],
      "text/plain": [
       "   id  label\n",
       "0   1    1.0\n",
       "1   2    1.0\n",
       "2   3    1.0\n",
       "3   4    1.0\n",
       "4   5    0.0\n",
       "5   6    0.0\n",
       "6   7    0.0\n",
       "7   8    0.0\n",
       "8   9    0.0\n",
       "9  10    0.0"
      ]
     },
     "execution_count": 79,
     "metadata": {},
     "output_type": "execute_result"
    }
   ],
   "source": [
    "results = pd.DataFrame({'id': pd.Series(test_df.id.values[:pred_test.shape[0]]),\n",
    "                        'label': pd.Series(pred_test.T[0])})\n",
    "results.to_csv('submission.csv', index=False)\n",
    "results.head(10)"
   ]
  },
  {
   "cell_type": "code",
   "execution_count": null,
   "metadata": {},
   "outputs": [],
   "source": []
  }
 ],
 "metadata": {
  "kernelspec": {
   "display_name": "Python 3",
   "language": "python",
   "name": "python3"
  },
  "language_info": {
   "codemirror_mode": {
    "name": "ipython",
    "version": 3
   },
   "file_extension": ".py",
   "mimetype": "text/x-python",
   "name": "python",
   "nbconvert_exporter": "python",
   "pygments_lexer": "ipython3",
   "version": "3.6.4"
  }
 },
 "nbformat": 4,
 "nbformat_minor": 2
}
